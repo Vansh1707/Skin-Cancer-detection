{
 "cells": [
  {
   "cell_type": "code",
   "execution_count": 30,
   "metadata": {},
   "outputs": [],
   "source": [
    "import pandas as pd\n",
    "import PIL\n",
    "import cv2\n",
    "from PIL import Image\n",
    "from matplotlib import image"
   ]
  },
  {
   "cell_type": "code",
   "execution_count": 2,
   "metadata": {},
   "outputs": [],
   "source": [
    "data = pd.read_csv(\"C:/Users/Vansh Aggarwal/Desktop/ai skin pro run/HAM10000_metadata.csv\")"
   ]
  },
  {
   "cell_type": "code",
   "execution_count": 3,
   "metadata": {},
   "outputs": [
    {
     "data": {
      "text/html": [
       "<div>\n",
       "<style scoped>\n",
       "    .dataframe tbody tr th:only-of-type {\n",
       "        vertical-align: middle;\n",
       "    }\n",
       "\n",
       "    .dataframe tbody tr th {\n",
       "        vertical-align: top;\n",
       "    }\n",
       "\n",
       "    .dataframe thead th {\n",
       "        text-align: right;\n",
       "    }\n",
       "</style>\n",
       "<table border=\"1\" class=\"dataframe\">\n",
       "  <thead>\n",
       "    <tr style=\"text-align: right;\">\n",
       "      <th></th>\n",
       "      <th>lesion_id</th>\n",
       "      <th>image_id</th>\n",
       "      <th>dx</th>\n",
       "      <th>dx_type</th>\n",
       "      <th>age</th>\n",
       "      <th>sex</th>\n",
       "      <th>localization</th>\n",
       "    </tr>\n",
       "  </thead>\n",
       "  <tbody>\n",
       "    <tr>\n",
       "      <th>0</th>\n",
       "      <td>HAM_0000118</td>\n",
       "      <td>ISIC_0027419</td>\n",
       "      <td>bkl</td>\n",
       "      <td>histo</td>\n",
       "      <td>80.0</td>\n",
       "      <td>male</td>\n",
       "      <td>scalp</td>\n",
       "    </tr>\n",
       "    <tr>\n",
       "      <th>1</th>\n",
       "      <td>HAM_0000118</td>\n",
       "      <td>ISIC_0025030</td>\n",
       "      <td>bkl</td>\n",
       "      <td>histo</td>\n",
       "      <td>80.0</td>\n",
       "      <td>male</td>\n",
       "      <td>scalp</td>\n",
       "    </tr>\n",
       "    <tr>\n",
       "      <th>2</th>\n",
       "      <td>HAM_0002730</td>\n",
       "      <td>ISIC_0026769</td>\n",
       "      <td>bkl</td>\n",
       "      <td>histo</td>\n",
       "      <td>80.0</td>\n",
       "      <td>male</td>\n",
       "      <td>scalp</td>\n",
       "    </tr>\n",
       "    <tr>\n",
       "      <th>3</th>\n",
       "      <td>HAM_0002730</td>\n",
       "      <td>ISIC_0025661</td>\n",
       "      <td>bkl</td>\n",
       "      <td>histo</td>\n",
       "      <td>80.0</td>\n",
       "      <td>male</td>\n",
       "      <td>scalp</td>\n",
       "    </tr>\n",
       "    <tr>\n",
       "      <th>4</th>\n",
       "      <td>HAM_0001466</td>\n",
       "      <td>ISIC_0031633</td>\n",
       "      <td>bkl</td>\n",
       "      <td>histo</td>\n",
       "      <td>75.0</td>\n",
       "      <td>male</td>\n",
       "      <td>ear</td>\n",
       "    </tr>\n",
       "  </tbody>\n",
       "</table>\n",
       "</div>"
      ],
      "text/plain": [
       "     lesion_id      image_id   dx dx_type   age   sex localization\n",
       "0  HAM_0000118  ISIC_0027419  bkl   histo  80.0  male        scalp\n",
       "1  HAM_0000118  ISIC_0025030  bkl   histo  80.0  male        scalp\n",
       "2  HAM_0002730  ISIC_0026769  bkl   histo  80.0  male        scalp\n",
       "3  HAM_0002730  ISIC_0025661  bkl   histo  80.0  male        scalp\n",
       "4  HAM_0001466  ISIC_0031633  bkl   histo  75.0  male          ear"
      ]
     },
     "execution_count": 3,
     "metadata": {},
     "output_type": "execute_result"
    }
   ],
   "source": [
    "data.head()"
   ]
  },
  {
   "cell_type": "markdown",
   "metadata": {},
   "source": [
    "> Dataframe containing labels"
   ]
  },
  {
   "cell_type": "code",
   "execution_count": 4,
   "metadata": {},
   "outputs": [],
   "source": [
    "data_2 = pd.read_csv(\"C:/Users/Vansh Aggarwal/Desktop/ai skin pro run/hmnist_28_28_RGB.csv\")"
   ]
  },
  {
   "cell_type": "code",
   "execution_count": 5,
   "metadata": {},
   "outputs": [],
   "source": [
    "label = data_2[\"label\"]"
   ]
  },
  {
   "cell_type": "markdown",
   "metadata": {},
   "source": [
    "> New dataframe with both image titles and labels:"
   ]
  },
  {
   "cell_type": "code",
   "execution_count": 6,
   "metadata": {},
   "outputs": [],
   "source": [
    "data = pd.merge(data, label, left_index= True, right_index= True)"
   ]
  },
  {
   "cell_type": "code",
   "execution_count": 7,
   "metadata": {},
   "outputs": [
    {
     "data": {
      "text/plain": [
       "nv       6705\n",
       "mel      1113\n",
       "bkl      1099\n",
       "bcc       514\n",
       "akiec     327\n",
       "vasc      142\n",
       "df        115\n",
       "Name: dx, dtype: int64"
      ]
     },
     "execution_count": 7,
     "metadata": {},
     "output_type": "execute_result"
    }
   ],
   "source": [
    "data[\"dx\"].value_counts()"
   ]
  },
  {
   "cell_type": "code",
   "execution_count": 8,
   "metadata": {},
   "outputs": [
    {
     "data": {
      "text/plain": [
       "4    6705\n",
       "6    1113\n",
       "2    1099\n",
       "1     514\n",
       "0     327\n",
       "5     142\n",
       "3     115\n",
       "Name: label, dtype: int64"
      ]
     },
     "execution_count": 8,
     "metadata": {},
     "output_type": "execute_result"
    }
   ],
   "source": [
    "data[\"label\"].value_counts()"
   ]
  },
  {
   "cell_type": "code",
   "execution_count": 9,
   "metadata": {},
   "outputs": [],
   "source": [
    "#taking 50% of overall data, by category, for the training df\n",
    "df4_train = data[data[\"label\"] == 4].sample(frac = .5)\n",
    "df6_train = data[data[\"label\"] == 6].sample(frac = .5)\n",
    "df2_train = data[data[\"label\"] == 2].sample(frac = .5)\n",
    "df1_train = data[data[\"label\"] == 1].sample(frac = .5)\n",
    "df0_train = data[data[\"label\"] == 0].sample(frac = .5)\n",
    "df5_train = data[data[\"label\"] == 5].sample(frac = .5)\n",
    "df3_train = data[data[\"label\"] == 3].sample(frac = .5)"
   ]
  },
  {
   "cell_type": "code",
   "execution_count": 10,
   "metadata": {},
   "outputs": [],
   "source": [
    "#val df is created from the remainder of the original data\n",
    "val_test_df = data.drop(df4_train.index)\n",
    "val_test_df.drop(df6_train.index, inplace = True)\n",
    "val_test_df.drop(df2_train.index, inplace = True)\n",
    "val_test_df.drop(df1_train.index, inplace = True)\n",
    "val_test_df.drop(df0_train.index, inplace = True)\n",
    "val_test_df.drop(df5_train.index, inplace = True)\n",
    "val_test_df.drop(df3_train.index, inplace = True)"
   ]
  },
  {
   "cell_type": "code",
   "execution_count": 11,
   "metadata": {},
   "outputs": [],
   "source": [
    "#taking 50% of the data that is left for the val df\n",
    "df4_val = val_test_df[val_test_df[\"label\"] == 4].sample(frac = .5)\n",
    "df6_val = val_test_df[val_test_df[\"label\"] == 6].sample(frac = .5)\n",
    "df2_val = val_test_df[val_test_df[\"label\"] == 2].sample(frac = .5)\n",
    "df1_val = val_test_df[val_test_df[\"label\"] == 1].sample(frac = .5)\n",
    "df0_val = val_test_df[val_test_df[\"label\"] == 0].sample(frac = .5)\n",
    "df5_val = val_test_df[val_test_df[\"label\"] == 5].sample(frac = .5)\n",
    "df3_val = val_test_df[val_test_df[\"label\"] == 3].sample(frac = .5)"
   ]
  },
  {
   "cell_type": "code",
   "execution_count": 12,
   "metadata": {},
   "outputs": [],
   "source": [
    "#droping the val indices from the original data\n",
    "#left over is the test df\n",
    "test_df = val_test_df.drop(df4_val.index)\n",
    "test_df.drop(df6_val.index, inplace = True)\n",
    "test_df.drop(df2_val.index, inplace = True)\n",
    "test_df.drop(df1_val.index, inplace = True)\n",
    "test_df.drop(df0_val.index, inplace = True)\n",
    "test_df.drop(df5_val.index, inplace = True)\n",
    "test_df.drop(df3_val.index, inplace = True)"
   ]
  },
  {
   "cell_type": "code",
   "execution_count": 13,
   "metadata": {},
   "outputs": [],
   "source": [
    "test_df.reset_index(inplace = True)"
   ]
  },
  {
   "cell_type": "code",
   "execution_count": 14,
   "metadata": {},
   "outputs": [],
   "source": [
    "#combine all val classes\n",
    "val_df = df4_val.append(df6_val).append(df2_val).append(df1_val).append(df0_val).append(df5_val).append(df3_val)\n",
    "val_df.reset_index(inplace = True)"
   ]
  },
  {
   "cell_type": "code",
   "execution_count": 15,
   "metadata": {},
   "outputs": [],
   "source": [
    "#combine all train classes\n",
    "train_df = df4_train.append(df6_train).append(df2_train).append(df1_train).append(df0_train).append(df5_train).append(df3_train)\n",
    "train_df.reset_index(inplace = True)"
   ]
  },
  {
   "cell_type": "code",
   "execution_count": 16,
   "metadata": {},
   "outputs": [
    {
     "data": {
      "text/plain": [
       "4    1677\n",
       "6     279\n",
       "2     275\n",
       "1     129\n",
       "0      81\n",
       "5      35\n",
       "3      29\n",
       "Name: label, dtype: int64"
      ]
     },
     "execution_count": 16,
     "metadata": {},
     "output_type": "execute_result"
    }
   ],
   "source": [
    "test_df[\"label\"].value_counts()"
   ]
  },
  {
   "cell_type": "code",
   "execution_count": 17,
   "metadata": {},
   "outputs": [
    {
     "data": {
      "text/plain": [
       "4    1676\n",
       "6     278\n",
       "2     274\n",
       "1     128\n",
       "0      82\n",
       "5      36\n",
       "3      28\n",
       "Name: label, dtype: int64"
      ]
     },
     "execution_count": 17,
     "metadata": {},
     "output_type": "execute_result"
    }
   ],
   "source": [
    "val_df[\"label\"].value_counts()"
   ]
  },
  {
   "cell_type": "code",
   "execution_count": 18,
   "metadata": {},
   "outputs": [
    {
     "data": {
      "text/plain": [
       "4    3352\n",
       "6     556\n",
       "2     550\n",
       "1     257\n",
       "0     164\n",
       "5      71\n",
       "3      58\n",
       "Name: label, dtype: int64"
      ]
     },
     "execution_count": 18,
     "metadata": {},
     "output_type": "execute_result"
    }
   ],
   "source": [
    "train_df[\"label\"].value_counts()"
   ]
  },
  {
   "cell_type": "code",
   "execution_count": 19,
   "metadata": {},
   "outputs": [
    {
     "name": "stdout",
     "output_type": "stream",
     "text": [
      "INFO:tensorflow:Enabling eager execution\n",
      "INFO:tensorflow:Enabling v2 tensorshape\n",
      "INFO:tensorflow:Enabling resource variables\n",
      "INFO:tensorflow:Enabling tensor equality\n",
      "INFO:tensorflow:Enabling control flow v2\n"
     ]
    }
   ],
   "source": [
    "from keras.preprocessing.image import ImageDataGenerator\n",
    "\n",
    "im_gen = ImageDataGenerator(\n",
    "        rotation_range = 360,\n",
    "        width_shift_range = 0.2,\n",
    "        height_shift_range = 0.2,\n",
    "        shear_range = 0.2,\n",
    "        zoom_range = 0.2,\n",
    "        horizontal_flip = True,\n",
    "        vertical_flip = True\n",
    ")"
   ]
  },
  {
   "cell_type": "markdown",
   "metadata": {},
   "source": [
    "> Code to separate into labels and then save to folders:"
   ]
  },
  {
   "cell_type": "code",
   "execution_count": 31,
   "metadata": {},
   "outputs": [],
   "source": [
    "#this iterates through each image in the training dataset created above by label and adds the image to the directory\n",
    "for i in range(7):\n",
    "    df = train_df[train_df[\"label\"] == i]\n",
    "    for j in df[\"image_id\"].values:\n",
    "        if int(j.replace(\"ISIC_00\",\"\")) < 29_306:\n",
    "            image1 = Image.open(f\"C:/Users/Vansh Aggarwal/Desktop/ai skin pro run/HAM10000_images_part_1/{j}.jpg\")\n",
    "            image1.save(f\"C:/Users/Vansh Aggarwal/Desktop/ai skin pro run/image_data_train/type_{i}/{j}.jpg\")\n",
    "\n",
    "        else:\n",
    "            image1 = Image.open(f\"C:/Users/Vansh Aggarwal/Desktop/ai skin pro run/HAM10000_images_part_2/{j}.jpg\")\n",
    "            image1.save(f\"C:/Users/Vansh Aggarwal/Desktop/ai skin pro run/image_data_train/type_{i}/{j}.jpg\")\n",
    "\n",
    "            \n",
    "#below code was added to create an augmented training data folder, but was not used\n",
    "    count = 0\n",
    "    while count < (train_df[\"label\"].shape[0]/df.shape[0]): #balancing the classes\n",
    "        for s in df[\"image_id\"].values:\n",
    "        \n",
    "            str_count = str(count)\n",
    "            if int(s.replace(\"ISIC_00\",\"\")) < 29_306:\n",
    "                #find image in one folder\n",
    "                image2 = cv2.imread(f\"C:/Users/Vansh Aggarwal/Desktop/ai skin pro run/HAM10000_images_part_1/{s}.jpg\")\n",
    "                #create a random transformation\n",
    "                im_dict = im_gen.get_random_transform((450,600,3))\n",
    "                #apply to image\n",
    "                new_im = im_gen.apply_transform(image2, im_dict)\n",
    "                image2 = Image.fromarray(new_im)\n",
    "                #save to augmented folder\n",
    "                image2.save(f\"C:/Users/Vansh Aggarwal/Desktop/ai skin pro run/image_data_train_augmented/type_{i}/{s}{str_count}.jpg\")\n",
    "            else:\n",
    "                #same thing as above but pulling from the second image folder\n",
    "                image2 = cv2.imread(f\"C:/Users/Vansh Aggarwal/Desktop/ai skin pro run/HAM10000_images_part_2/{s}.jpg\")\n",
    "                im_dict = im_gen.get_random_transform((450,600,3))\n",
    "                new_im = im_gen.apply_transform(image2, im_dict)\n",
    "                image2 = Image.fromarray(new_im)\n",
    "                image2.save(f\"C:/Users/Vansh Aggarwal/Desktop/ai skin pro run/image_data_train_augmented/type_{i}/{s}{str_count}.jpg\")\n",
    "        count += 1"
   ]
  },
  {
   "cell_type": "code",
   "execution_count": 21,
   "metadata": {},
   "outputs": [],
   "source": [
    "#creating the test directory\n",
    "for i in range(7):\n",
    "    df = test_df[test_df[\"label\"] == i]\n",
    "    for j in df[\"image_id\"].values:\n",
    "        if int(j.replace(\"ISIC_00\",\"\")) < 29_306:\n",
    "            image = Image.open(f\"C:/Users/Vansh Aggarwal/Desktop/ai skin pro run/HAM10000_images_part_1/{j}.jpg\")\n",
    "            image.save(f\"C:/Users/Vansh Aggarwal/Desktop/ai skin pro run/image_data_test//type_{i}/{j}.jpg\")\n",
    "        else:\n",
    "            image = Image.open(f\"C:/Users/Vansh Aggarwal/Desktop/ai skin pro run/HAM10000_images_part_2/{j}.jpg\")\n",
    "            image.save(f\"C:/Users/Vansh Aggarwal/Desktop/ai skin pro run/image_data_test//type_{i}/{j}.jpg\")"
   ]
  },
  {
   "cell_type": "code",
   "execution_count": 22,
   "metadata": {},
   "outputs": [],
   "source": [
    "#creating the validation directory\n",
    "for i in range(7):\n",
    "    df = val_df[val_df[\"label\"] == i]\n",
    "    for j in df[\"image_id\"].values:\n",
    "        if int(j.replace(\"ISIC_00\",\"\")) < 29_306:\n",
    "            image = Image.open(f\"C:/Users/Vansh Aggarwal/Desktop/ai skin pro run/HAM10000_images_part_1/{j}.jpg\")\n",
    "            image.save(f\"C:/Users/Vansh Aggarwal/Desktop/ai skin pro run/image_data_validation//type_{i}/{j}.jpg\")\n",
    "        else:\n",
    "            image = Image.open(f\"C:/Users/Vansh Aggarwal/Desktop/ai skin pro run/HAM10000_images_part_2/{j}.jpg\")\n",
    "            image.save(f\"C:/Users/Vansh Aggarwal/Desktop/ai skin pro run/image_data_validation//type_{i}/{j}.jpg\")"
   ]
  },
  {
   "cell_type": "code",
   "execution_count": null,
   "metadata": {},
   "outputs": [],
   "source": []
  }
 ],
 "metadata": {
  "kernelspec": {
   "display_name": "Python 3",
   "language": "python",
   "name": "python3"
  },
  "language_info": {
   "codemirror_mode": {
    "name": "ipython",
    "version": 3
   },
   "file_extension": ".py",
   "mimetype": "text/x-python",
   "name": "python",
   "nbconvert_exporter": "python",
   "pygments_lexer": "ipython3",
   "version": "3.9.2"
  }
 },
 "nbformat": 4,
 "nbformat_minor": 2
}
