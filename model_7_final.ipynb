{
 "cells": [
  {
   "cell_type": "markdown",
   "metadata": {},
   "source": [
    "# Model5: Best Accuracy"
   ]
  },
  {
   "cell_type": "code",
   "execution_count": 1,
   "metadata": {},
   "outputs": [
    {
     "name": "stdout",
     "output_type": "stream",
     "text": [
      "INFO:tensorflow:Enabling eager execution\n",
      "INFO:tensorflow:Enabling v2 tensorshape\n",
      "INFO:tensorflow:Enabling resource variables\n",
      "INFO:tensorflow:Enabling tensor equality\n",
      "INFO:tensorflow:Enabling control flow v2\n"
     ]
    }
   ],
   "source": [
    "#imports\n",
    "from keras.layers import Dense, Conv2D, MaxPooling2D, Flatten, Dropout\n",
    "from keras.models import Sequential\n",
    "from keras import optimizers\n",
    "from keras.preprocessing.image import ImageDataGenerator\n",
    "\n",
    "import matplotlib.pyplot as plt\n",
    "\n",
    "import os\n",
    "from os import listdir\n",
    "os.environ['KMP_DUPLICATE_LIB_OK']='True' #needed this so that my kernel didn't die when plotting\n",
    "import warnings\n",
    "warnings.filterwarnings(\"ignore\")"
   ]
  },
  {
   "cell_type": "code",
   "execution_count": 12,
   "metadata": {},
   "outputs": [],
   "source": [
    "#list of directories\n",
    "base_directory = \"C:/Users/Vansh Aggarwal/Desktop/ai skin pro run\"\n",
    "\n",
    "test_directory = os.path.join(base_directory, 'image_data_test')\n",
    "train_directory = os.path.join(base_directory, 'image_data_train')\n",
    "validation_directory = os.path.join(base_directory, 'image_data_validation')\n",
    "aug_train_directory = os.path.join(base_directory, 'image_data_train_augmented')\n",
    "bal_validation_directory = os.path.join(base_directory, 'image_data_test_balanced')"
   ]
  },
  {
   "cell_type": "code",
   "execution_count": 4,
   "metadata": {},
   "outputs": [],
   "source": [
    "#importing pre-trained model\n",
    "# from keras.applications import MobileNetV2\n",
    "from keras.applications.mobilenet_v2 import MobileNetV2"
   ]
  },
  {
   "cell_type": "code",
   "execution_count": 5,
   "metadata": {},
   "outputs": [
    {
     "name": "stdout",
     "output_type": "stream",
     "text": [
      "WARNING:tensorflow:`input_shape` is undefined or non-square, or `rows` is not in [96, 128, 160, 192, 224]. Weights for input shape (224, 224) will be loaded as the default.\n"
     ]
    }
   ],
   "source": [
    "#assigning model to variable to add to new model\n",
    "#top fully connected layers not included\n",
    "prior = MobileNetV2(include_top =  False, weights = \"imagenet\", input_shape = (150, 150, 3))"
   ]
  },
  {
   "cell_type": "code",
   "execution_count": 6,
   "metadata": {},
   "outputs": [],
   "source": [
    "model = Sequential()\n",
    "\n",
    "model.add(prior)\n",
    "\n",
    "model.add(Flatten())\n",
    "# model.add(Dropout(rate = 0.5))\n",
    "\n",
    "model.add(Dense(512, activation='relu'))\n",
    "model.add(Dropout(rate = 0.5))\n",
    "\n",
    "model.add(Dense(256, activation='relu'))\n",
    "# model.add(Dropout(rate = 0.5))\n",
    "\n",
    "model.add(Dense(128, activation='relu'))\n",
    "model.add(Dropout(rate = 0.5))\n",
    "\n",
    "model.add(Dense(64, activation='relu'))\n",
    "\n",
    "model.add(Dense(7, activation='softmax'))\n",
    "\n",
    "#freeze MobileNet layers so that imagenet weights can be used\n",
    "for layer in model.layers[0].layers:\n",
    "    layer.trainable = False"
   ]
  },
  {
   "cell_type": "code",
   "execution_count": 7,
   "metadata": {},
   "outputs": [
    {
     "name": "stdout",
     "output_type": "stream",
     "text": [
      "Model: \"sequential\"\n",
      "_________________________________________________________________\n",
      "Layer (type)                 Output Shape              Param #   \n",
      "=================================================================\n",
      "mobilenetv2_1.00_224 (Functi (None, 5, 5, 1280)        2257984   \n",
      "_________________________________________________________________\n",
      "flatten (Flatten)            (None, 32000)             0         \n",
      "_________________________________________________________________\n",
      "dense (Dense)                (None, 512)               16384512  \n",
      "_________________________________________________________________\n",
      "dropout (Dropout)            (None, 512)               0         \n",
      "_________________________________________________________________\n",
      "dense_1 (Dense)              (None, 256)               131328    \n",
      "_________________________________________________________________\n",
      "dense_2 (Dense)              (None, 128)               32896     \n",
      "_________________________________________________________________\n",
      "dropout_1 (Dropout)          (None, 128)               0         \n",
      "_________________________________________________________________\n",
      "dense_3 (Dense)              (None, 64)                8256      \n",
      "_________________________________________________________________\n",
      "dense_4 (Dense)              (None, 7)                 455       \n",
      "=================================================================\n",
      "Total params: 18,815,431\n",
      "Trainable params: 16,557,447\n",
      "Non-trainable params: 2,257,984\n",
      "_________________________________________________________________\n"
     ]
    }
   ],
   "source": [
    "model.summary()"
   ]
  },
  {
   "cell_type": "code",
   "execution_count": 8,
   "metadata": {},
   "outputs": [],
   "source": [
    "adam = optimizers.Adam(lr = 0.001)\n",
    "model.compile(loss = 'categorical_crossentropy',\n",
    "              optimizer = adam,\n",
    "              metrics = ['acc'])"
   ]
  },
  {
   "cell_type": "code",
   "execution_count": 9,
   "metadata": {},
   "outputs": [],
   "source": [
    "train_datagen = ImageDataGenerator(rescale = 1./255)\n",
    "val_datagen = ImageDataGenerator(rescale=1./255)"
   ]
  },
  {
   "cell_type": "code",
   "execution_count": 10,
   "metadata": {},
   "outputs": [],
   "source": [
    "#class weights used to give more emphasis to the melanomic classes\n",
    "class_weights = {\n",
    "    0: 1,\n",
    "    1: 1,\n",
    "    2: 2,\n",
    "    3: 1,\n",
    "    4: 1,\n",
    "    5: 1,\n",
    "    6: 2\n",
    "}"
   ]
  },
  {
   "cell_type": "code",
   "execution_count": 13,
   "metadata": {},
   "outputs": [
    {
     "name": "stdout",
     "output_type": "stream",
     "text": [
      "Found 29051 images belonging to 7 classes.\n",
      "Found 196 images belonging to 7 classes.\n"
     ]
    }
   ],
   "source": [
    "#largest target size used for images\n",
    "#increasing batch size made a difference\n",
    "train_generator = train_datagen.flow_from_directory(\n",
    "        aug_train_directory,\n",
    "        target_size=(150, 150), \n",
    "        batch_size= 256,\n",
    "        class_mode='categorical'\n",
    ")\n",
    "\n",
    "validation_generator = val_datagen.flow_from_directory(\n",
    "        bal_validation_directory,\n",
    "        target_size=(150, 150),\n",
    "        batch_size= 256,\n",
    "        class_mode='categorical')"
   ]
  },
  {
   "cell_type": "code",
   "execution_count": 14,
   "metadata": {},
   "outputs": [
    {
     "name": "stdout",
     "output_type": "stream",
     "text": [
      "data batch shape: (256, 150, 150, 3)\n",
      "labels batch shape: (256, 7)\n"
     ]
    }
   ],
   "source": [
    "for data_batch, labels_batch in train_generator:\n",
    "    print('data batch shape:', data_batch.shape)\n",
    "    print('labels batch shape:', labels_batch.shape)\n",
    "    break"
   ]
  },
  {
   "cell_type": "code",
   "execution_count": 15,
   "metadata": {},
   "outputs": [],
   "source": [
    "from keras.callbacks import EarlyStopping, ReduceLROnPlateau\n",
    "\n",
    "callbacks = [EarlyStopping(monitor= \"val_loss\", patience = 5, restore_best_weights= True),\n",
    "             ReduceLROnPlateau(monitor=\"loss\", patience = 2)]\n"
   ]
  },
  {
   "cell_type": "markdown",
   "metadata": {},
   "source": [
    "# #model5"
   ]
  },
  {
   "cell_type": "code",
   "execution_count": 16,
   "metadata": {
    "scrolled": false
   },
   "outputs": [
    {
     "name": "stdout",
     "output_type": "stream",
     "text": [
      "WARNING:tensorflow:From c:\\users\\vansh aggarwal\\appdata\\local\\programs\\python\\python39\\lib\\site-packages\\tensorflow\\python\\ops\\array_ops.py:5043: calling gather (from tensorflow.python.ops.array_ops) with validate_indices is deprecated and will be removed in a future version.\n",
      "Instructions for updating:\n",
      "The `validate_indices` argument has no effect. Indices are always validated on CPU and never validated on GPU.\n",
      "Epoch 1/20\n",
      "WARNING:tensorflow:AutoGraph could not transform <bound method Dense.call of <keras.layers.core.Dense object at 0x000001C8C8749FD0>> and will run it as-is.\n",
      "Please report this to the TensorFlow team. When filing the bug, set the verbosity to 10 (on Linux, `export AUTOGRAPH_VERBOSITY=10`) and attach the full output.\n",
      "Cause: invalid syntax (tmp1b17hfaz.py, line 48)\n",
      "To silence this warning, decorate the function with @tf.autograph.experimental.do_not_convert\n",
      "WARNING: AutoGraph could not transform <bound method Dense.call of <keras.layers.core.Dense object at 0x000001C8C8749FD0>> and will run it as-is.\n",
      "Please report this to the TensorFlow team. When filing the bug, set the verbosity to 10 (on Linux, `export AUTOGRAPH_VERBOSITY=10`) and attach the full output.\n",
      "Cause: invalid syntax (tmp1b17hfaz.py, line 48)\n",
      "To silence this warning, decorate the function with @tf.autograph.experimental.do_not_convert\n",
      "114/114 [==============================] - 399s 3s/step - loss: 3.4634 - acc: 0.2065 - val_loss: 1.5558 - val_acc: 0.4031\n",
      "Epoch 2/20\n",
      "114/114 [==============================] - 373s 3s/step - loss: 2.0347 - acc: 0.3427 - val_loss: 1.5581 - val_acc: 0.3878\n",
      "Epoch 3/20\n",
      "114/114 [==============================] - 334s 3s/step - loss: 1.8948 - acc: 0.3891 - val_loss: 1.5031 - val_acc: 0.3980\n",
      "Epoch 4/20\n",
      "114/114 [==============================] - 334s 3s/step - loss: 1.7665 - acc: 0.4379 - val_loss: 1.4375 - val_acc: 0.4337\n",
      "Epoch 5/20\n",
      "114/114 [==============================] - 314s 3s/step - loss: 1.6729 - acc: 0.4748 - val_loss: 1.3607 - val_acc: 0.4592\n",
      "Epoch 6/20\n",
      "114/114 [==============================] - 286s 3s/step - loss: 1.5927 - acc: 0.5099 - val_loss: 1.3899 - val_acc: 0.4388\n",
      "Epoch 7/20\n",
      "114/114 [==============================] - 296s 3s/step - loss: 1.5449 - acc: 0.5241 - val_loss: 1.4733 - val_acc: 0.4643\n",
      "Epoch 8/20\n",
      "114/114 [==============================] - 324s 3s/step - loss: 1.4730 - acc: 0.5483 - val_loss: 1.5284 - val_acc: 0.4694\n",
      "Epoch 9/20\n",
      "114/114 [==============================] - 342s 3s/step - loss: 1.4300 - acc: 0.5612 - val_loss: 1.3801 - val_acc: 0.5051\n",
      "Epoch 10/20\n",
      "114/114 [==============================] - 311s 3s/step - loss: 1.3495 - acc: 0.5940 - val_loss: 1.3069 - val_acc: 0.4898\n",
      "Epoch 11/20\n",
      "114/114 [==============================] - 300s 3s/step - loss: 1.3577 - acc: 0.5897 - val_loss: 1.4350 - val_acc: 0.4796\n",
      "Epoch 12/20\n",
      "114/114 [==============================] - 306s 3s/step - loss: 1.3258 - acc: 0.5997 - val_loss: 1.2810 - val_acc: 0.5255\n",
      "Epoch 13/20\n",
      "114/114 [==============================] - 298s 3s/step - loss: 1.2501 - acc: 0.6201 - val_loss: 1.3172 - val_acc: 0.5000\n",
      "Epoch 14/20\n",
      "114/114 [==============================] - 297s 3s/step - loss: 1.2541 - acc: 0.6190 - val_loss: 1.3256 - val_acc: 0.5561\n",
      "Epoch 15/20\n",
      "114/114 [==============================] - 300s 3s/step - loss: 1.1721 - acc: 0.6456 - val_loss: 1.3924 - val_acc: 0.5102\n",
      "Epoch 16/20\n",
      "114/114 [==============================] - 313s 3s/step - loss: 1.1537 - acc: 0.6479 - val_loss: 1.3275 - val_acc: 0.5102\n",
      "Epoch 17/20\n",
      "114/114 [==============================] - 307s 3s/step - loss: 1.1335 - acc: 0.6497 - val_loss: 1.4641 - val_acc: 0.4745\n"
     ]
    }
   ],
   "source": [
    "import numpy as np\n",
    "\n",
    "#important to make sure steps are related to the batch size and image count\n",
    "history = model.fit_generator(\n",
    "      train_generator,\n",
    "      steps_per_epoch= len(train_generator),\n",
    "      epochs=20,\n",
    "      validation_data=validation_generator,\n",
    "      validation_steps= len(validation_generator),\n",
    "      callbacks= callbacks,\n",
    "      class_weight= class_weights\n",
    ")"
   ]
  },
  {
   "cell_type": "code",
   "execution_count": 17,
   "metadata": {},
   "outputs": [],
   "source": [
    "model.save(\"mymodel5.h5\")"
   ]
  },
  {
   "cell_type": "code",
   "execution_count": 18,
   "metadata": {},
   "outputs": [
    {
     "data": {
      "image/png": "[encoded data removed]",
      "text/plain": [
       "<Figure size 432x288 with 1 Axes>"
      ]
     },
     "metadata": {
      "needs_background": "light"
     },
     "output_type": "display_data"
    }
   ],
   "source": [
    "#plot of loss for train and val\n",
    "plt.plot(history.history[\"loss\"], label = \"loss\")\n",
    "plt.plot(history.history[\"val_loss\"], label = \"val_loss\")\n",
    "plt.legend();"
   ]
  },
  {
   "cell_type": "code",
   "execution_count": 19,
   "metadata": {
    "scrolled": true
   },
   "outputs": [
    {
     "data": {
      "image/png": "[encoded data removed]",
      "text/plain": [
       "<Figure size 432x288 with 1 Axes>"
      ]
     },
     "metadata": {
      "needs_background": "light"
     },
     "output_type": "display_data"
    }
   ],
   "source": [
    "#plot of accuracy for train and val\n",
    "plt.plot(history.history[\"acc\"], label = \"acc\")\n",
    "plt.plot(history.history[\"val_acc\"], label = \"val_acc\")\n",
    "plt.legend();"
   ]
  },
  {
   "cell_type": "code",
   "execution_count": 87,
   "metadata": {},
   "outputs": [
    {
     "data": {
      "image/png": "[encoded data removed]",
      "text/plain": [
       "<Figure size 576x360 with 1 Axes>"
      ]
     },
     "metadata": {
      "needs_background": "light"
     },
     "output_type": "display_data"
    }
   ],
   "source": [
    "pd.DataFrame(history.history).plot(figsize=(8,5))\n",
    "plt.xlabel(\"epochs\")\n",
    "plt.ylabel(\"percentage\")\n",
    "plt.show()"
   ]
  },
  {
   "cell_type": "markdown",
   "metadata": {},
   "source": [
    "## Summary:\n",
    "\n",
    "This is the best that a model has performed so far with the balanced validation data. There is clear overfitting and we are not sure why the model is not learning past a certain point. Slowing the learning rate down seems only to have helped the training data, not the testing data. After reading about batch size influence, manipulating the batch size to be larger than 32 definitely increased accuracy. In the future, I would like to use a platform like AWS to run my more time consuming models so that I can use a larger input image and run more tests. "
   ]
  },
  {
   "cell_type": "code",
   "execution_count": 20,
   "metadata": {},
   "outputs": [],
   "source": [
    "import pandas as pd\n",
    "import numpy as np\n",
    "import matplotlib.pyplot as plt\n",
    "\n",
    "from keras.models import Model, load_model\n",
    "import keras\n",
    "from keras.preprocessing.image import ImageDataGenerator\n",
    "\n",
    "from sklearn.metrics import confusion_matrix, accuracy_score, classification_report\n",
    "\n",
    "import os"
   ]
  },
  {
   "cell_type": "code",
   "execution_count": 45,
   "metadata": {},
   "outputs": [],
   "source": [
    "#directory imports\n",
    "base_dir = \"C:/Users/Vansh Aggarwal/Desktop/ai skin pro run\"\n",
    "\n",
    "test_directory = os.path.join(base_dir, \"image_data_test_balanced\")"
   ]
  },
  {
   "cell_type": "code",
   "execution_count": 46,
   "metadata": {},
   "outputs": [],
   "source": [
    "#instantiating ImageGenerator to pull test images for predictions\n",
    "test_data_gen = ImageDataGenerator(rescale= 1./255)"
   ]
  },
  {
   "cell_type": "code",
   "execution_count": 47,
   "metadata": {},
   "outputs": [
    {
     "name": "stdout",
     "output_type": "stream",
     "text": [
      "Found 196 images belonging to 7 classes.\n"
     ]
    }
   ],
   "source": [
    "batch_size = 256\n",
    "\n",
    "test_generator7 = test_data_gen.flow_from_directory(test_directory, target_size = (150,150), batch_size = 256, shuffle = False)\n",
    "\n",
    "model = load_model(\"C:/Users/Vansh Aggarwal/Desktop/skin_lesion_cnn-master/skin_lesion_cnn-master/skin_lesion_cnn-master/cnn_models/mymodel5.h5\")\n",
    "\n"
   ]
  },
  {
   "cell_type": "code",
   "execution_count": 48,
   "metadata": {},
   "outputs": [
    {
     "data": {
      "text/plain": [
       "1"
      ]
     },
     "execution_count": 48,
     "metadata": {},
     "output_type": "execute_result"
    }
   ],
   "source": [
    "len(test_generator7)"
   ]
  },
  {
   "cell_type": "code",
   "execution_count": 49,
   "metadata": {},
   "outputs": [],
   "source": [
    "preds = model.predict(test_generator7, steps = len(test_generator7))\n",
    "preds7 = np.argmax(preds, axis =1)\n"
   ]
  },
  {
   "cell_type": "code",
   "execution_count": 50,
   "metadata": {},
   "outputs": [
    {
     "data": {
      "text/plain": [
       "0.5255102040816326"
      ]
     },
     "execution_count": 50,
     "metadata": {},
     "output_type": "execute_result"
    }
   ],
   "source": [
    "y_true = test_generator7.classes\n",
    "accuracy_score(y_true, preds7)"
   ]
  },
  {
   "cell_type": "code",
   "execution_count": 51,
   "metadata": {},
   "outputs": [
    {
     "name": "stdout",
     "output_type": "stream",
     "text": [
      "              precision    recall  f1-score   support\n",
      "\n",
      "           0       0.60      0.11      0.18        28\n",
      "           1       0.60      0.54      0.57        28\n",
      "           2       0.29      0.68      0.40        28\n",
      "           3       0.89      0.29      0.43        28\n",
      "           4       0.57      0.89      0.69        28\n",
      "           5       0.95      0.75      0.84        28\n",
      "           6       0.48      0.43      0.45        28\n",
      "\n",
      "    accuracy                           0.53       196\n",
      "   macro avg       0.63      0.53      0.51       196\n",
      "weighted avg       0.63      0.53      0.51       196\n",
      "\n"
     ]
    }
   ],
   "source": [
    "print(classification_report(y_true, preds7))"
   ]
  },
  {
   "cell_type": "code",
   "execution_count": 52,
   "metadata": {},
   "outputs": [
    {
     "data": {
      "text/html": [
       "<div>\n",
       "<style scoped>\n",
       "    .dataframe tbody tr th:only-of-type {\n",
       "        vertical-align: middle;\n",
       "    }\n",
       "\n",
       "    .dataframe tbody tr th {\n",
       "        vertical-align: top;\n",
       "    }\n",
       "\n",
       "    .dataframe thead th {\n",
       "        text-align: right;\n",
       "    }\n",
       "</style>\n",
       "<table border=\"1\" class=\"dataframe\">\n",
       "  <thead>\n",
       "    <tr style=\"text-align: right;\">\n",
       "      <th></th>\n",
       "      <th>pred_0</th>\n",
       "      <th>pred_1</th>\n",
       "      <th>pred_2</th>\n",
       "      <th>pred_3</th>\n",
       "      <th>pred_4</th>\n",
       "      <th>pred_5</th>\n",
       "      <th>pred_6</th>\n",
       "    </tr>\n",
       "  </thead>\n",
       "  <tbody>\n",
       "    <tr>\n",
       "      <th>true_0</th>\n",
       "      <td>3</td>\n",
       "      <td>4</td>\n",
       "      <td>16</td>\n",
       "      <td>0</td>\n",
       "      <td>0</td>\n",
       "      <td>0</td>\n",
       "      <td>5</td>\n",
       "    </tr>\n",
       "    <tr>\n",
       "      <th>true_1</th>\n",
       "      <td>2</td>\n",
       "      <td>15</td>\n",
       "      <td>9</td>\n",
       "      <td>0</td>\n",
       "      <td>1</td>\n",
       "      <td>0</td>\n",
       "      <td>1</td>\n",
       "    </tr>\n",
       "    <tr>\n",
       "      <th>true_2</th>\n",
       "      <td>0</td>\n",
       "      <td>3</td>\n",
       "      <td>19</td>\n",
       "      <td>0</td>\n",
       "      <td>4</td>\n",
       "      <td>0</td>\n",
       "      <td>2</td>\n",
       "    </tr>\n",
       "    <tr>\n",
       "      <th>true_3</th>\n",
       "      <td>0</td>\n",
       "      <td>2</td>\n",
       "      <td>7</td>\n",
       "      <td>8</td>\n",
       "      <td>9</td>\n",
       "      <td>0</td>\n",
       "      <td>2</td>\n",
       "    </tr>\n",
       "    <tr>\n",
       "      <th>true_4</th>\n",
       "      <td>0</td>\n",
       "      <td>0</td>\n",
       "      <td>3</td>\n",
       "      <td>0</td>\n",
       "      <td>25</td>\n",
       "      <td>0</td>\n",
       "      <td>0</td>\n",
       "    </tr>\n",
       "    <tr>\n",
       "      <th>true_5</th>\n",
       "      <td>0</td>\n",
       "      <td>0</td>\n",
       "      <td>2</td>\n",
       "      <td>0</td>\n",
       "      <td>2</td>\n",
       "      <td>21</td>\n",
       "      <td>3</td>\n",
       "    </tr>\n",
       "    <tr>\n",
       "      <th>true_6</th>\n",
       "      <td>0</td>\n",
       "      <td>1</td>\n",
       "      <td>10</td>\n",
       "      <td>1</td>\n",
       "      <td>3</td>\n",
       "      <td>1</td>\n",
       "      <td>12</td>\n",
       "    </tr>\n",
       "  </tbody>\n",
       "</table>\n",
       "</div>"
      ],
      "text/plain": [
       "        pred_0  pred_1  pred_2  pred_3  pred_4  pred_5  pred_6\n",
       "true_0       3       4      16       0       0       0       5\n",
       "true_1       2      15       9       0       1       0       1\n",
       "true_2       0       3      19       0       4       0       2\n",
       "true_3       0       2       7       8       9       0       2\n",
       "true_4       0       0       3       0      25       0       0\n",
       "true_5       0       0       2       0       2      21       3\n",
       "true_6       0       1      10       1       3       1      12"
      ]
     },
     "execution_count": 52,
     "metadata": {},
     "output_type": "execute_result"
    }
   ],
   "source": [
    "pd.DataFrame(confusion_matrix(y_true, preds7), \n",
    "             columns = [\"pred_0\", \"pred_1\", \"pred_2\", \"pred_3\", \"pred_4\", \"pred_5\", \"pred_6\"],\n",
    "             index = [\"true_0\", \"true_1\", \"true_2\", \"true_3\", \"true_4\", \"true_5\", \"true_6\"])"
   ]
  },
  {
   "cell_type": "code",
   "execution_count": 53,
   "metadata": {
    "scrolled": true
   },
   "outputs": [
    {
     "name": "stdout",
     "output_type": "stream",
     "text": [
      "              precision    recall  f1-score   support\n",
      "\n",
      "           0       0.60      0.11      0.18        28\n",
      "           1       0.60      0.54      0.57        28\n",
      "           2       0.29      0.68      0.40        28\n",
      "           3       0.89      0.29      0.43        28\n",
      "           4       0.57      0.89      0.69        28\n",
      "           5       0.95      0.75      0.84        28\n",
      "           6       0.48      0.43      0.45        28\n",
      "\n",
      "    accuracy                           0.53       196\n",
      "   macro avg       0.63      0.53      0.51       196\n",
      "weighted avg       0.63      0.53      0.51       196\n",
      "\n"
     ]
    }
   ],
   "source": [
    "print(classification_report(y_true, preds7))"
   ]
  },
  {
   "cell_type": "code",
   "execution_count": 69,
   "metadata": {},
   "outputs": [],
   "source": [
    "from tensorflow.keras.preprocessing import image\n",
    "from PIL import Image \n",
    "import PIL"
   ]
  },
  {
   "cell_type": "code",
   "execution_count": 95,
   "metadata": {
    "scrolled": false
   },
   "outputs": [
    {
     "name": "stdout",
     "output_type": "stream",
     "text": [
      "Benign keratosis-like lesions\n",
      "Benign keratosis-like lesions\n",
      "Basal cell carcinoma\n",
      "Basal cell carcinoma\n",
      "Actinic keratoses\n",
      "Actinic keratoses\n",
      "Actinic keratoses\n",
      "Vascular lesions\n",
      "Vascular lesions\n",
      "Actinic keratoses\n",
      "Vascular lesions\n",
      "Vascular lesions\n",
      "Vascular lesions\n",
      "Vascular lesions\n",
      "Vascular lesions\n",
      "Vascular lesions\n"
     ]
    }
   ],
   "source": [
    "dir_path='C:/Users/Vansh Aggarwal/Desktop/skin_lesion_cnn-master/skin_lesion_cnn-master/skin_lesion_cnn-master/cnn_models/test'\n",
    "for i in os.listdir(dir_path):\n",
    "  \n",
    "    img=image.load_img(dir_path+'//'+i,target_size=(150,150))\n",
    "    img1=img\n",
    "    plt.imshow(img)\n",
    "    plt.show()\n",
    "    x=image.img_to_array(img)\n",
    "    x=np.expand_dims(x,axis=0)\n",
    "    images=np.vstack([x])\n",
    "#     print(images)\n",
    "    val=model.predict(images)\n",
    "    hu=np.argmax(val, axis =1)\n",
    "    if hu==0:\n",
    "        print(\"Melanocytic nevi\")\n",
    "    elif hu==1:\n",
    "        print(\"dermatofibroma\")\n",
    "    elif hu==2:\n",
    "        print(\"Benign keratosis-like lesions\")\n",
    "    elif hu==3:\n",
    "        print(\"Basal cell carcinoma\")\n",
    "    elif hu==4:\n",
    "        print(\"Actinic keratoses\")\n",
    "    elif hu==5:\n",
    "        print(\"Vascular lesions\")\n",
    "    elif hu==6:\n",
    "        print(\"melanoma\")\n",
    "        "
   ]
  },
  {
   "cell_type": "code",
   "execution_count": 78,
   "metadata": {
    "scrolled": false
   },
   "outputs": [
    {
     "name": "stdout",
     "output_type": "stream",
     "text": [
      "Vascular lesions\n",
      "Actinic keratoses\n",
      "Vascular lesions\n",
      "Vascular lesions\n",
      "Actinic keratoses\n",
      "Vascular lesions\n",
      "Basal cell carcinoma\n",
      "Vascular lesions\n",
      "Actinic keratoses\n",
      "Actinic keratoses\n",
      "Actinic keratoses\n",
      "Basal cell carcinoma\n",
      "Actinic keratoses\n",
      "Vascular lesions\n",
      "Basal cell carcinoma\n",
      "Vascular lesions\n",
      "Actinic keratoses\n",
      "Actinic keratoses\n",
      "Actinic keratoses\n",
      "Vascular lesions\n",
      "Actinic keratoses\n",
      "Vascular lesions\n",
      "Vascular lesions\n",
      "Vascular lesions\n",
      "Vascular lesions\n",
      "Vascular lesions\n",
      "Vascular lesions\n",
      "Benign keratosis-like lesions\n",
      "Vascular lesions\n",
      "Vascular lesions\n",
      "Actinic keratoses\n",
      "Vascular lesions\n",
      "Actinic keratoses\n",
      "Vascular lesions\n",
      "Vascular lesions\n",
      "Vascular lesions\n",
      "Benign keratosis-like lesions\n",
      "Actinic keratoses\n",
      "Basal cell carcinoma\n",
      "Vascular lesions\n",
      "Basal cell carcinoma\n",
      "Actinic keratoses\n",
      "Actinic keratoses\n",
      "Vascular lesions\n",
      "Vascular lesions\n",
      "Vascular lesions\n",
      "Vascular lesions\n",
      "Vascular lesions\n",
      "Vascular lesions\n",
      "Vascular lesions\n",
      "Vascular lesions\n",
      "Vascular lesions\n",
      "Vascular lesions\n",
      "Actinic keratoses\n",
      "Vascular lesions\n",
      "Vascular lesions\n",
      "Vascular lesions\n",
      "Vascular lesions\n",
      "Vascular lesions\n",
      "Vascular lesions\n",
      "Vascular lesions\n",
      "Vascular lesions\n",
      "Vascular lesions\n",
      "Vascular lesions\n",
      "Vascular lesions\n",
      "Vascular lesions\n",
      "Vascular lesions\n",
      "Actinic keratoses\n",
      "Vascular lesions\n",
      "Basal cell carcinoma\n",
      "Actinic keratoses\n",
      "Vascular lesions\n",
      "Vascular lesions\n",
      "Vascular lesions\n",
      "Basal cell carcinoma\n",
      "Vascular lesions\n",
      "Vascular lesions\n",
      "Vascular lesions\n",
      "Vascular lesions\n",
      "Vascular lesions\n",
      "Vascular lesions\n",
      "Vascular lesions\n",
      "Vascular lesions\n",
      "Vascular lesions\n",
      "Vascular lesions\n",
      "Actinic keratoses\n",
      "Vascular lesions\n",
      "Vascular lesions\n",
      "Vascular lesions\n",
      "Actinic keratoses\n",
      "Vascular lesions\n",
      "Vascular lesions\n",
      "Vascular lesions\n",
      "Vascular lesions\n",
      "Actinic keratoses\n",
      "Benign keratosis-like lesions\n",
      "Vascular lesions\n",
      "Actinic keratoses\n",
      "Actinic keratoses\n",
      "Actinic keratoses\n",
      "Actinic keratoses\n",
      "Vascular lesions\n",
      "Vascular lesions\n",
      "Basal cell carcinoma\n",
      "Vascular lesions\n",
      "Vascular lesions\n",
      "Vascular lesions\n",
      "Vascular lesions\n",
      "Vascular lesions\n",
      "Vascular lesions\n",
      "Vascular lesions\n",
      "Actinic keratoses\n",
      "Vascular lesions\n",
      "Vascular lesions\n",
      "Basal cell carcinoma\n",
      "Vascular lesions\n",
      "Actinic keratoses\n",
      "Vascular lesions\n",
      "Actinic keratoses\n",
      "Vascular lesions\n",
      "Vascular lesions\n",
      "Vascular lesions\n",
      "Vascular lesions\n",
      "Vascular lesions\n",
      "Vascular lesions\n",
      "Basal cell carcinoma\n",
      "Basal cell carcinoma\n",
      "Vascular lesions\n",
      "Vascular lesions\n",
      "Actinic keratoses\n",
      "Actinic keratoses\n",
      "Vascular lesions\n",
      "Actinic keratoses\n",
      "Vascular lesions\n",
      "Vascular lesions\n",
      "Vascular lesions\n",
      "Vascular lesions\n",
      "Vascular lesions\n",
      "Vascular lesions\n",
      "Vascular lesions\n"
     ]
    }
   ],
   "source": [
    "dir_path='C:/Users/Vansh Aggarwal/Desktop/skin_lesion_cnn-master/skin_lesion_cnn-master/skin_lesion_cnn-master/cnn_models/test'\n",
    "count=0\n",
    "saves='C:/Users/Vansh Aggarwal/Desktop/test2'\n",
    "for i in os.listdir(dir_path):\n",
    "    orig=Image.open(dir_path+'//'+i)\n",
    "    img=image.load_img(dir_path+'//'+i,target_size=(150,150))\n",
    "#     plt.imshow(img)\n",
    "#     plt.show()\n",
    "    x=image.img_to_array(img)\n",
    "    x=np.expand_dims(x,axis=0)\n",
    "    images=np.vstack([x])\n",
    "#     print(images)\n",
    "    val=model.predict(images)\n",
    "    hu=np.argmax(val, axis =1)\n",
    "#     savepath=os.path.join(saves,'type_'+str(hu))\n",
    "    savepath=saves+'/type_'+str(hu[0])\n",
    "    if hu==0:\n",
    "        print(\"Melanocytic nevi\")\n",
    "    elif hu==1:\n",
    "        print(\"dermatofibroma\")\n",
    "    elif hu==2:\n",
    "        print(\"Benign keratosis-like lesions\")\n",
    "    elif hu==3:\n",
    "        print(\"Basal cell carcinoma\")\n",
    "    elif hu==4:\n",
    "        print(\"Actinic keratoses\")\n",
    "    elif hu==5:\n",
    "        print(\"Vascular lesions\")\n",
    "    elif hu==6:\n",
    "        print(\"melanoma\")\n",
    "    orig.save(f\"{savepath}/{count}.jpg\")\n",
    "    \n",
    "    count=count+1"
   ]
  }
 ],
 "metadata": {
  "kernelspec": {
   "display_name": "Python 3",
   "language": "python",
   "name": "python3"
  },
  "language_info": {
   "codemirror_mode": {
    "name": "ipython",
    "version": 3
   },
   "file_extension": ".py",
   "mimetype": "text/x-python",
   "name": "python",
   "nbconvert_exporter": "python",
   "pygments_lexer": "ipython3",
   "version": "3.9.2"
  }
 },
 "nbformat": 4,
 "nbformat_minor": 2
}
